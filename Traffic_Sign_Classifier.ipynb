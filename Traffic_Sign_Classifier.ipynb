{
 "cells": [
  {
   "cell_type": "markdown",
   "metadata": {},
   "source": [
    "# Self-Driving Car Engineer Nanodegree\n",
    "\n",
    "## Deep Learning\n",
    "\n",
    "## Project: Build a Traffic Sign Recognition Classifier\n",
    "\n",
    "In this notebook, a template is provided for you to implement your functionality in stages, which is required to successfully complete this project. If additional code is required that cannot be included in the notebook, be sure that the Python code is successfully imported and included in your submission if necessary. \n",
    "\n",
    "> **Note**: Once you have completed all of the code implementations, you need to finalize your work by exporting the iPython Notebook as an HTML document. Before exporting the notebook to html, all of the code cells need to have been run so that reviewers can see the final implementation and output. You can then export the notebook by using the menu above and navigating to  \\n\",\n",
    "    \"**File -> Download as -> HTML (.html)**. Include the finished document along with this notebook as your submission. \n",
    "\n",
    "In addition to implementing code, there is a writeup to complete. The writeup should be completed in a separate file, which can be either a markdown file or a pdf document. There is a [write up template](https://github.com/udacity/CarND-Traffic-Sign-Classifier-Project/blob/master/writeup_template.md) that can be used to guide the writing process. Completing the code template and writeup template will cover all of the [rubric points](https://review.udacity.com/#!/rubrics/481/view) for this project.\n",
    "\n",
    "The [rubric](https://review.udacity.com/#!/rubrics/481/view) contains \"Stand Out Suggestions\" for enhancing the project beyond the minimum requirements. The stand out suggestions are optional. If you decide to pursue the \"stand out suggestions\", you can include the code in this Ipython notebook and also discuss the results in the writeup file.\n",
    "\n",
    "\n",
    ">**Note:** Code and Markdown cells can be executed using the **Shift + Enter** keyboard shortcut. In addition, Markdown cells can be edited by typically double-clicking the cell to enter edit mode."
   ]
  },
  {
   "cell_type": "markdown",
   "metadata": {},
   "source": [
    "---\n",
    "## Step 0: Load The Data"
   ]
  },
  {
   "cell_type": "code",
   "execution_count": 2,
   "metadata": {
    "collapsed": true
   },
   "outputs": [],
   "source": [
    "import pickle\n",
    "import os\n",
    "import matplotlib.pyplot as plt\n",
    "import matplotlib.gridspec as gridspec\n",
    "import random\n",
    "import cv2\n",
    "from sklearn.model_selection import train_test_split\n",
    "import numpy as np\n",
    "%matplotlib inline\n",
    "import tensorflow as tf\n",
    "from PIL import Image\n",
    "import pandas as pd\n",
    "import pickle\n",
    "from tensorflow.contrib.layers import flatten"
   ]
  },
  {
   "cell_type": "code",
   "execution_count": 3,
   "metadata": {
    "collapsed": false
   },
   "outputs": [],
   "source": [
    "# Load pickled data\n",
    "# TODO: Fill this in based on where you saved the training and testing data\n",
    "\n",
    "training_file = 'traffic-signs-data/train.p'\n",
    "testing_file = 'traffic-signs-data/test.p'\n",
    "\n",
    "with open(training_file, mode='rb') as f:\n",
    "    train = pickle.load(f)\n",
    "with open(testing_file, mode='rb') as f:\n",
    "    test = pickle.load(f)\n",
    "    \n",
    "X_train, y_train = train['features'], train['labels']\n",
    "X_test, y_test = test['features'], test['labels']\n",
    "labels_train = tf.one_hot(y_train,43)\n",
    "labels_test = tf.one_hot(y_test,43)"
   ]
  },
  {
   "cell_type": "markdown",
   "metadata": {},
   "source": [
    "---\n",
    "\n",
    "## Step 1: Dataset Summary & Exploration\n",
    "\n",
    "The pickled data is a dictionary with 4 key/value pairs:\n",
    "\n",
    "- `'features'` is a 4D array containing raw pixel data of the traffic sign images, (num examples, width, height, channels).\n",
    "- `'labels'` is a 1D array containing the label/class id of the traffic sign. The file `signnames.csv` contains id -> name mappings for each id.\n",
    "- `'sizes'` is a list containing tuples, (width, height) representing the the original width and height the image.\n",
    "- `'coords'` is a list containing tuples, (x1, y1, x2, y2) representing coordinates of a bounding box around the sign in the image. **THESE COORDINATES ASSUME THE ORIGINAL IMAGE. THE PICKLED DATA CONTAINS RESIZED VERSIONS (32 by 32) OF THESE IMAGES**\n",
    "\n",
    "Complete the basic data summary below. Use python, numpy and/or pandas methods to calculate the data summary rather than hard coding the results. For example, the [pandas shape method](http://pandas.pydata.org/pandas-docs/stable/generated/pandas.DataFrame.shape.html) might be useful for calculating some of the summary results. "
   ]
  },
  {
   "cell_type": "markdown",
   "metadata": {},
   "source": [
    "### Provide a Basic Summary of the Data Set Using Python, Numpy and/or Pandas"
   ]
  },
  {
   "cell_type": "code",
   "execution_count": 4,
   "metadata": {
    "collapsed": false
   },
   "outputs": [
    {
     "name": "stdout",
     "output_type": "stream",
     "text": [
      "Number of training examples = 39209\n",
      "Number of testing examples = 12630\n",
      "Image data shape = (32, 32, 3)\n",
      "Number of classes = 43\n"
     ]
    }
   ],
   "source": [
    "### Replace each question mark with the appropriate value. \n",
    "### Use python, pandas or numpy methods rather than hard coding the results\n",
    "\n",
    "# TODO: Number of training examples\n",
    "n_train = len(X_train)\n",
    "\n",
    "# TODO: Number of testing examples.\n",
    "n_test = len(X_test)\n",
    "\n",
    "# TODO: What's the shape of an traffic sign image?\n",
    "image_shape = X_train[0].shape\n",
    "\n",
    "# TODO: How many unique classes/labels there are in the dataset.\n",
    "n_classes = len(np.unique(y_train))\n",
    "\n",
    "print(\"Number of training examples =\", n_train)\n",
    "print(\"Number of testing examples =\", n_test)\n",
    "print(\"Image data shape =\", image_shape)\n",
    "print(\"Number of classes =\", n_classes)"
   ]
  },
  {
   "cell_type": "markdown",
   "metadata": {},
   "source": [
    "### Include an exploratory visualization of the dataset"
   ]
  },
  {
   "cell_type": "markdown",
   "metadata": {},
   "source": [
    "Visualize the German Traffic Signs Dataset using the pickled file(s). This is open ended, suggestions include: plotting traffic sign images, plotting the count of each sign, etc.\n",
    "\n",
    "The [Matplotlib](http://matplotlib.org/) [examples](http://matplotlib.org/examples/index.html) and [gallery](http://matplotlib.org/gallery.html) pages are a great resource for doing visualizations in Python.\n",
    "\n",
    "**NOTE:** It's recommended you start with something simple first. If you wish to do more, come back to it after you've completed the rest of the sections."
   ]
  },
  {
   "cell_type": "code",
   "execution_count": 6,
   "metadata": {
    "collapsed": false
   },
   "outputs": [
    {
     "data": {
      "text/plain": [
       "<Container object of 43 artists>"
      ]
     },
     "execution_count": 6,
     "metadata": {},
     "output_type": "execute_result"
    },
    {
     "data": {
      "image/png": "[encoded data removed]",
      "text/plain": [
       "<matplotlib.figure.Figure at 0x12fddd4a8>"
      ]
     },
     "metadata": {},
     "output_type": "display_data"
    }
   ],
   "source": [
    "### Data exploration visualization code goes here.\n",
    "### Feel free to use as many code cells as needed.\n",
    "# Visualizations will be shown in the notebook.\n",
    "data_i = [[i,sum(y_train == i)] for i in range(len(np.unique(y_train)))]\n",
    "data_i_sorted = sorted(data_i, key=lambda x: x[1])\n",
    "data_pd = pd.read_csv('signnames.csv')\n",
    "data_pd['Occurance'] = pd.Series(np.asarray(data_i_sorted).T[1], index=np.asarray(data_i_sorted).T[0])\n",
    "data_pd_sorted = data_pd.sort_values(['Occurance'],ascending=[0]).reset_index()\n",
    "data_pd_sorted = data_pd_sorted.drop('index', 1)\n",
    "\n",
    "plt.bar(range(43),height=data_pd_sorted[\"Occurance\"])"
   ]
  },
  {
   "cell_type": "markdown",
   "metadata": {},
   "source": [
    "----\n",
    "\n",
    "## Step 2: Design and Test a Model Architecture\n",
    "\n",
    "Design and implement a deep learning model that learns to recognize traffic signs. Train and test your model on the [German Traffic Sign Dataset](http://benchmark.ini.rub.de/?section=gtsrb&subsection=dataset).\n",
    "\n",
    "There are various aspects to consider when thinking about this problem:\n",
    "\n",
    "- Neural network architecture\n",
    "- Play around preprocessing techniques (normalization, rgb to grayscale, etc)\n",
    "- Number of examples per label (some have more than others).\n",
    "- Generate fake data.\n",
    "\n",
    "Here is an example of a [published baseline model on this problem](http://yann.lecun.com/exdb/publis/pdf/sermanet-ijcnn-11.pdf). It's not required to be familiar with the approach used in the paper but, it's good practice to try to read papers like these.\n",
    "\n",
    "**NOTE:** The LeNet-5 implementation shown in the [classroom](https://classroom.udacity.com/nanodegrees/nd013/parts/fbf77062-5703-404e-b60c-95b78b2f3f9e/modules/6df7ae49-c61c-4bb2-a23e-6527e69209ec/lessons/601ae704-1035-4287-8b11-e2c2716217ad/concepts/d4aca031-508f-4e0b-b493-e7b706120f81) at the end of the CNN lesson is a solid starting point. You'll have to change the number of classes and possibly the preprocessing, but aside from that it's plug and play!"
   ]
  },
  {
   "cell_type": "markdown",
   "metadata": {},
   "source": [
    "### Pre-process the Data Set (normalization, grayscale, etc.)"
   ]
  },
  {
   "cell_type": "markdown",
   "metadata": {},
   "source": [
    "Use the code cell (or multiple code cells, if necessary) to implement the first step of your project."
   ]
  },
  {
   "cell_type": "code",
   "execution_count": 7,
   "metadata": {
    "collapsed": true
   },
   "outputs": [],
   "source": [
    "### Preprocess the data here.\n",
    "### Feel free to use as many code cells as needed.\n",
    "def preprocess(data):\n",
    "    \"\"\"Convert to grayscale, histogram equalize, and expand dims\"\"\"\n",
    "    imgs = np.ndarray((data.shape[0], 32, 32, 1), dtype=np.uint8)\n",
    "    for i, img in enumerate(data):\n",
    "        img = cv2.cvtColor(img, cv2.COLOR_BGR2GRAY)\n",
    "        img = cv2.equalizeHist(img)\n",
    "        img = np.expand_dims(img, axis=2)\n",
    "        imgs[i] = img\n",
    "    return imgs\n",
    "\n",
    "X_train = preprocess(X_train)\n",
    "X_test = preprocess(X_test)\n",
    "\n",
    "def center_normaize(data, mean, std):\n",
    "    \"\"\"Center normalize images\"\"\"\n",
    "    data = data.astype('float32')\n",
    "    data -= mean\n",
    "    data /= std\n",
    "    return data\n",
    "\n",
    "mean = np.mean(X_train)\n",
    "std = np.std(X_train)\n",
    "\n",
    "X_train = center_normaize(X_train, mean, std)\n",
    "X_test = center_normaize(X_test, mean, std)\n",
    "from sklearn.preprocessing import LabelBinarizer\n",
    "ohe = LabelBinarizer().fit(y_train)\n",
    "y_train_ohe = ohe.transform(y_train)\n",
    "y_test_ohe = ohe.transform(y_test)\n",
    "from sklearn.utils import shuffle\n",
    "X_train, y_train = shuffle(X_train, y_train)"
   ]
  },
  {
   "cell_type": "code",
   "execution_count": 8,
   "metadata": {
    "collapsed": false
   },
   "outputs": [
    {
     "name": "stdout",
     "output_type": "stream",
     "text": [
      "9803 29406\n"
     ]
    }
   ],
   "source": [
    "#split the data into training/validation/testing sets here.\n",
    "X_train_SS, X_valid_SS, y_train_SS , y_valid_SS = train_test_split(X_train, y_train, test_size = 0.25, random_state = 0)\n",
    "print(len(X_valid_SS),\n",
    "     len(X_train_SS))"
   ]
  },
  {
   "cell_type": "markdown",
   "metadata": {},
   "source": [
    "### Model Architecture"
   ]
  },
  {
   "cell_type": "code",
   "execution_count": 9,
   "metadata": {
    "collapsed": true
   },
   "outputs": [],
   "source": [
    "#Setup tensorflow.\n",
    "EPOCHS = 10\n",
    "BATCH_SIZE = 128\n",
    "dropout = 0.5"
   ]
  },
  {
   "cell_type": "code",
   "execution_count": 10,
   "metadata": {
    "collapsed": true
   },
   "outputs": [],
   "source": [
    "### Define your architecture here.\n",
    "### Feel free to use as many code cells as needed.\n",
    "def LeNet(x, dropout):    \n",
    "    # Arguments used for tf.truncated_normal, randomly defines variables for the weights and biases for each layer\n",
    "    mu = 0\n",
    "    sigma = 0.1\n",
    "    \n",
    "    # SOLUTION: Layer 1: Convolutional. Input = 32x32x1. Output = 28x28x6.\n",
    "    conv1_W = tf.Variable(tf.truncated_normal(shape=(5, 5, 1, 6), mean = mu, stddev = sigma))\n",
    "    conv1_b = tf.Variable(tf.zeros(6))\n",
    "    conv1   = tf.nn.conv2d(x, conv1_W, strides=[1, 1, 1, 1], padding='VALID') + conv1_b\n",
    "\n",
    "    # SOLUTION: Activation.\n",
    "    conv1 = tf.nn.relu(conv1)\n",
    "\n",
    "    # SOLUTION: Pooling. Input = 28x28x6. Output = 14x14x6.\n",
    "    conv1 = tf.nn.max_pool(conv1, ksize=[1, 2, 2, 1], strides=[1, 2, 2, 1], padding='VALID')\n",
    "\n",
    "    # SOLUTION: Layer 2: Convolutional. Output = 10x10x16.\n",
    "    conv2_W = tf.Variable(tf.truncated_normal(shape=(5, 5, 6, 16), mean = mu, stddev = sigma))\n",
    "    conv2_b = tf.Variable(tf.zeros(16))\n",
    "    conv2   = tf.nn.conv2d(conv1, conv2_W, strides=[1, 1, 1, 1], padding='VALID') + conv2_b\n",
    "    \n",
    "    # SOLUTION: Activation.\n",
    "    conv2 = tf.nn.relu(conv2)\n",
    "\n",
    "    # SOLUTION: Pooling. Input = 10x10x16. Output = 5x5x16.\n",
    "    conv2 = tf.nn.max_pool(conv2, ksize=[1, 2, 2, 1], strides=[1, 2, 2, 1], padding='VALID')\n",
    "\n",
    "    # SOLUTION: Flatten. Input = 5x5x16. Output = 400.\n",
    "    fc0   = flatten(conv2)\n",
    "    \n",
    "    # SOLUTION: Layer 3: Fully Connected. Input = 400. Output = 120.\n",
    "    fc1_W = tf.Variable(tf.truncated_normal(shape=(400, 120), mean = mu, stddev = sigma))\n",
    "    fc1_b = tf.Variable(tf.zeros(120))\n",
    "    fc1   = tf.matmul(fc0, fc1_W) + fc1_b\n",
    "    \n",
    "    # SOLUTION: Activation.\n",
    "    fc1    = tf.nn.relu(fc1)\n",
    "    fc1    = tf.nn.dropout(fc1, dropout)\n",
    "\n",
    "    # SOLUTION: Layer 4: Fully Connected. Input = 120. Output = 84.\n",
    "    fc2_W  = tf.Variable(tf.truncated_normal(shape=(120, 84), mean = mu, stddev = sigma))\n",
    "    fc2_b  = tf.Variable(tf.zeros(84))\n",
    "    fc2    = tf.matmul(fc1, fc2_W) + fc2_b\n",
    "    \n",
    "    # SOLUTION: Activation.\n",
    "    fc2    = tf.nn.relu(fc2)\n",
    "    fc2    = tf.nn.dropout(fc2, dropout)\n",
    "\n",
    "    # SOLUTION: Layer 5: Fully Connected. Input = 84. Output = 43.\n",
    "    fc3_W  = tf.Variable(tf.truncated_normal(shape=(84, 43), mean = mu, stddev = sigma))\n",
    "    fc3_b  = tf.Variable(tf.zeros(43))\n",
    "    logits = tf.matmul(fc2, fc3_W) + fc3_b\n",
    "    \n",
    "    regularizers = (tf.nn.l2_loss(conv1_W) \n",
    "                + tf.nn.l2_loss(conv2_W) + tf.nn.l2_loss(fc1_W) \n",
    "                + tf.nn.l2_loss(fc2_W) + tf.nn.l2_loss(fc3_W) \n",
    "                )\n",
    "    \n",
    "    return logits , regularizers"
   ]
  },
  {
   "cell_type": "markdown",
   "metadata": {},
   "source": [
    "### Train, Validate and Test the Model"
   ]
  },
  {
   "cell_type": "markdown",
   "metadata": {},
   "source": [
    "A validation set can be used to assess how well the model is performing. A low accuracy on the training and validation\n",
    "sets imply underfitting. A high accuracy on the training set but low accuracy on the validation set implies overfitting."
   ]
  },
  {
   "cell_type": "code",
   "execution_count": 11,
   "metadata": {
    "collapsed": true
   },
   "outputs": [],
   "source": [
    "### Train your model here.\n",
    "### Calculate and report the accuracy on the training and validation set.\n",
    "### Once a final model architecture is selected, \n",
    "### the accuracy on the test set should be calculated and reported as well.\n",
    "### Feel free to use as many code cells as needed.\n",
    "x = tf.placeholder(tf.float32, (None, 32, 32, 1))\n",
    "y = tf.placeholder(tf.int32, (None))\n",
    "one_hot_y = tf.one_hot(y, 43)\n",
    "keep_prob = tf.placeholder(tf.float32)"
   ]
  },
  {
   "cell_type": "code",
   "execution_count": 12,
   "metadata": {
    "collapsed": true
   },
   "outputs": [],
   "source": [
    "rate = 0.001\n",
    "\n",
    "logits, regularizers = LeNet(x, keep_prob)\n",
    "cross_entropy = tf.nn.softmax_cross_entropy_with_logits(logits, one_hot_y)+1e-5*regularizers\n",
    "loss_operation = tf.reduce_mean(cross_entropy)\n",
    "optimizer = tf.train.AdamOptimizer(learning_rate = rate)\n",
    "training_operation = optimizer.minimize(loss_operation)"
   ]
  },
  {
   "cell_type": "code",
   "execution_count": 13,
   "metadata": {
    "collapsed": true
   },
   "outputs": [],
   "source": [
    "correct_prediction = tf.equal(tf.argmax(logits, 1), tf.argmax(one_hot_y, 1))\n",
    "accuracy_operation = tf.reduce_mean(tf.cast(correct_prediction, tf.float32))\n",
    "saver = tf.train.Saver()\n",
    "\n",
    "def evaluate(X_data, y_data):\n",
    "    num_examples = len(X_data)\n",
    "    total_accuracy = 0\n",
    "    sess = tf.get_default_session()\n",
    "    for offset in range(0, num_examples, BATCH_SIZE):\n",
    "        batch_x, batch_y = X_data[offset:offset+BATCH_SIZE], y_data[offset:offset+BATCH_SIZE]\n",
    "        accuracy = sess.run(accuracy_operation, feed_dict={x: batch_x, y: batch_y, keep_prob:1.0})\n",
    "        total_accuracy += (accuracy * len(batch_x))\n",
    "    return total_accuracy / num_examples"
   ]
  },
  {
   "cell_type": "code",
   "execution_count": 14,
   "metadata": {
    "collapsed": false
   },
   "outputs": [
    {
     "name": "stdout",
     "output_type": "stream",
     "text": [
      "Training...\n",
      "\n",
      "EPOCH 1 ...\n",
      "Validation Accuracy = 0.662\n",
      "\n",
      "train accuracy = 0.553\n",
      "EPOCH 2 ...\n",
      "Validation Accuracy = 0.833\n",
      "\n",
      "train accuracy = 0.691\n",
      "EPOCH 3 ...\n",
      "Validation Accuracy = 0.878\n",
      "\n",
      "train accuracy = 0.766\n",
      "EPOCH 4 ...\n",
      "Validation Accuracy = 0.901\n",
      "\n",
      "train accuracy = 0.798\n",
      "EPOCH 5 ...\n",
      "Validation Accuracy = 0.922\n",
      "\n",
      "train accuracy = 0.809\n",
      "EPOCH 6 ...\n",
      "Validation Accuracy = 0.934\n",
      "\n",
      "train accuracy = 0.819\n",
      "EPOCH 7 ...\n",
      "Validation Accuracy = 0.941\n",
      "\n",
      "train accuracy = 0.904\n",
      "EPOCH 8 ...\n",
      "Validation Accuracy = 0.955\n",
      "\n",
      "train accuracy = 0.883\n",
      "EPOCH 9 ...\n",
      "Validation Accuracy = 0.957\n",
      "\n",
      "train accuracy = 0.872\n",
      "EPOCH 10 ...\n",
      "Validation Accuracy = 0.955\n",
      "\n",
      "train accuracy = 0.830\n",
      "Model saved\n"
     ]
    }
   ],
   "source": [
    "with tf.Session() as sess:\n",
    "    sess.run(tf.global_variables_initializer())\n",
    "    num_examples = len(X_train_SS)\n",
    "    \n",
    "    print(\"Training...\")\n",
    "    print()\n",
    "    for i in range(EPOCHS):\n",
    "        X_train_SS, y_train_SS = shuffle(X_train_SS, y_train_SS)\n",
    "        for offset in range(0, num_examples, BATCH_SIZE):\n",
    "            end = offset + BATCH_SIZE\n",
    "            batch_x, batch_y = X_train_SS[offset:end], y_train_SS[offset:end]\n",
    "            sess.run(training_operation, feed_dict={x: batch_x, y: batch_y, keep_prob:0.5})\n",
    "            \n",
    "        validation_accuracy = evaluate(X_valid_SS, y_valid_SS)\n",
    "        print(\"EPOCH {} ...\".format(i+1))\n",
    "        print(\"Validation Accuracy = {:.3f}\".format(validation_accuracy))\n",
    "        print()\n",
    "        print(\"train accuracy = {:.3f}\".format(sess.run(accuracy_operation, feed_dict={x: batch_x, y: batch_y, keep_prob:0.5})))\n",
    "        \n",
    "    saver.save(sess, './lenet')\n",
    "    print(\"Model saved\")"
   ]
  },
  {
   "cell_type": "code",
   "execution_count": 15,
   "metadata": {
    "collapsed": false
   },
   "outputs": [
    {
     "name": "stdout",
     "output_type": "stream",
     "text": [
      "Test Accuracy = 0.904\n"
     ]
    }
   ],
   "source": [
    "with tf.Session() as sess:\n",
    "    saver.restore(sess, tf.train.latest_checkpoint('.'))\n",
    "\n",
    "    test_accuracy = evaluate(X_test, y_test)\n",
    "    print(\"Test Accuracy = {:.3f}\".format(test_accuracy))"
   ]
  },
  {
   "cell_type": "markdown",
   "metadata": {},
   "source": [
    "---\n",
    "\n",
    "## Step 3: Test a Model on New Images\n",
    "\n",
    "To give yourself more insight into how your model is working, download at least five pictures of German traffic signs from the web and use your model to predict the traffic sign type.\n",
    "\n",
    "You may find `signnames.csv` useful as it contains mappings from the class id (integer) to the actual sign name."
   ]
  },
  {
   "cell_type": "markdown",
   "metadata": {},
   "source": [
    "### Load and Output the Images"
   ]
  },
  {
   "cell_type": "code",
   "execution_count": 16,
   "metadata": {
    "collapsed": false
   },
   "outputs": [],
   "source": [
    "### Load the images and plot them here.\n",
    "### Feel free to use as many code cells as needed.\n",
    "def process_newimage_file(name):\n",
    "    image = cv2.imread(name)\n",
    "    image = cv2.resize(image,(32,32))\n",
    "    image = cv2.cvtColor(image, cv2.COLOR_BGR2GRAY)\n",
    "    image = cv2.equalizeHist(image)\n",
    "    image = np.expand_dims(image, axis=2)\n",
    "    return image\n",
    "\n",
    "newdata = [process_newimage_file(\"./traffic-signs-test/\"+name) for name in os.listdir(\"./traffic-signs-test/\")]\n",
    "namenewdata = [name for name in os.listdir(\"./traffic-signs-test/\")]\n",
    "newdata = np.array(newdata ,dtype = np.float32)\n",
    "#newdata = preprocess(newdata)\n",
    "newdata = center_normaize(newdata, mean, std)"
   ]
  },
  {
   "cell_type": "code",
   "execution_count": 17,
   "metadata": {
    "collapsed": false
   },
   "outputs": [
    {
     "data": {
      "image/png": "[encoded data removed]",
      "text/plain": [
       "<matplotlib.figure.Figure at 0x135d57b38>"
      ]
     },
     "metadata": {},
     "output_type": "display_data"
    }
   ],
   "source": [
    "def plot_newImage_3C(n_row,n_col,X):\n",
    "\n",
    "    plt.figure(figsize = (8,6))\n",
    "    gs1 = gridspec.GridSpec(n_row,n_row)\n",
    "    gs1.update(wspace=0.01, hspace=0.02) # set the spacing between axes. \n",
    "\n",
    "    for i in range(n_row*n_col):\n",
    "        ax1 = plt.subplot(gs1[i])\n",
    "        plt.axis('on')\n",
    "        ax1.set_xticklabels([])\n",
    "        ax1.set_yticklabels([])\n",
    "        ax1.set_aspect('equal')\n",
    "        ind_plot = i\n",
    "        plt.imshow(X[ind_plot].squeeze(), cmap=\"gray\")\n",
    "        plt.axis('off')\n",
    "    plt.show()\n",
    "plot_newImage_3C(5,1,newdata+.5)"
   ]
  },
  {
   "cell_type": "markdown",
   "metadata": {},
   "source": [
    "### Predict the Sign Type for Each Image"
   ]
  },
  {
   "cell_type": "code",
   "execution_count": 18,
   "metadata": {
    "collapsed": true
   },
   "outputs": [],
   "source": [
    "### Run the predictions here and use the model to output the prediction for each image.\n",
    "### Make sure to pre-process the images with the same pre-processing pipeline used earlier.\n",
    "### Feel free to use as many code cells as needed.\n",
    "pred = tf.nn.softmax(logits)\n",
    "feed_dict_new = {x:newdata,keep_prob: 1.}\n",
    "with tf.Session() as sess:\n",
    "    saver.restore(sess, tf.train.latest_checkpoint('.'))\n",
    "    predictions = sess.run(pred,feed_dict = feed_dict_new)"
   ]
  },
  {
   "cell_type": "markdown",
   "metadata": {},
   "source": [
    "### Analyze Performance"
   ]
  },
  {
   "cell_type": "code",
   "execution_count": 19,
   "metadata": {
    "collapsed": false
   },
   "outputs": [
    {
     "name": "stdout",
     "output_type": "stream",
     "text": [
      "[[  1.09393011e-06   5.65562175e-07   2.28583419e-09   2.07734898e-13\n",
      "    1.49472825e-07   1.24149670e-14   4.94408941e-12   4.05224546e-13\n",
      "    8.38640535e-09   3.34909813e-16   7.05752849e-15   5.30971480e-14\n",
      "    1.20939402e-12   3.99009137e-09   9.88192740e-04   7.20367585e-11\n",
      "    2.13425502e-17   9.99005854e-01   4.06465035e-11   1.18943874e-16\n",
      "    5.48888990e-10   1.00874712e-13   1.63742158e-08   2.76332658e-14\n",
      "    9.33282531e-13   2.77658257e-10   2.60409142e-11   1.56282650e-15\n",
      "    3.52022881e-13   6.49997695e-11   2.13880596e-14   1.35913725e-10\n",
      "    8.99061207e-12   1.65421199e-07   3.16370735e-10   4.46215466e-14\n",
      "    2.36543424e-10   6.38533626e-09   1.92608721e-10   4.05763512e-06\n",
      "    1.93829131e-08   6.29270041e-16   2.01164287e-17]\n",
      " [  1.71339310e-12   1.96569122e-10   1.67083028e-10   4.15681752e-05\n",
      "    5.36050533e-13   3.31918493e-08   1.03385689e-10   4.46705797e-11\n",
      "    3.40402012e-12   9.67048095e-08   1.51861585e-07   1.17540282e-07\n",
      "    2.30977798e-06   5.72070894e-06   1.70320789e-08   3.94046492e-06\n",
      "    2.04319739e-09   1.96999058e-12   1.66558404e-13   5.39905977e-06\n",
      "    6.97671794e-07   3.47338247e-09   2.05616010e-10   4.64150162e-06\n",
      "    1.15354322e-08   7.72327803e-06   2.38264313e-12   7.44196593e-10\n",
      "    1.88399699e-05   6.01830616e-05   1.76000654e-07   3.05532044e-09\n",
      "    2.11277413e-08   5.01667600e-05   2.83376954e-04   9.99409914e-01\n",
      "    1.04815481e-04   3.52427484e-12   4.14076311e-08   2.57843691e-10\n",
      "    1.90447921e-10   5.36213907e-10   2.43914361e-10]\n",
      " [  5.32063905e-06   1.01623300e-04   2.08223370e-04   1.00855777e-05\n",
      "    2.77177833e-06   1.28372028e-06   2.45175625e-06   6.24194286e-07\n",
      "    4.62246635e-06   5.41618590e-08   3.69570259e-08   3.27007143e-07\n",
      "    6.72935721e-06   2.05904962e-05   9.90504801e-01   3.80838173e-05\n",
      "    1.83833315e-09   7.08186347e-03   3.59177399e-08   2.73007439e-09\n",
      "    1.20928121e-06   1.31347306e-07   1.59943590e-06   2.15473861e-08\n",
      "    2.54811052e-08   2.14304941e-06   6.10898567e-08   9.67852576e-10\n",
      "    2.74639707e-08   8.27012911e-07   7.43528403e-08   1.01784303e-06\n",
      "    3.83645192e-06   1.51533913e-03   3.71232600e-04   1.92690845e-06\n",
      "    8.20085043e-05   7.74638409e-07   1.64750672e-05   6.73620843e-06\n",
      "    4.78619904e-06   9.78347430e-08   1.33593900e-08]\n",
      " [  3.76316493e-05   4.57921888e-05   7.54137091e-07   1.29385619e-12\n",
      "    1.37280629e-04   1.11713597e-13   4.20159140e-14   2.53221975e-11\n",
      "    1.95948087e-06   3.44439278e-15   3.40001112e-13   3.64497894e-14\n",
      "    3.78307542e-12   3.47455291e-08   2.68933974e-04   8.00902722e-09\n",
      "    1.13350594e-17   9.94434536e-01   2.85624996e-10   2.62653177e-14\n",
      "    6.22925433e-10   4.51981265e-11   7.25267597e-08   4.17246804e-13\n",
      "    7.51015309e-12   5.58365409e-10   1.50678170e-09   2.60996093e-15\n",
      "    1.10063120e-12   2.02767003e-09   1.37519602e-14   1.11700309e-07\n",
      "    4.10377637e-14   7.33052411e-06   4.86884448e-12   5.07681570e-13\n",
      "    9.25612972e-12   6.39485188e-06   4.50332306e-12   5.05885296e-03\n",
      "    2.34486393e-07   3.63916415e-18   1.09571808e-18]\n",
      " [  1.07638099e-15   7.44022137e-15   1.92896819e-13   3.88014769e-07\n",
      "    5.25311640e-14   2.80339684e-12   2.35462221e-15   3.87800174e-11\n",
      "    1.59004418e-12   7.40402795e-10   6.35926381e-11   8.94898508e-14\n",
      "    3.60606156e-10   9.99942660e-01   1.31168271e-11   1.59537350e-07\n",
      "    3.01142114e-13   2.46675832e-14   1.36758153e-18   2.80631096e-13\n",
      "    2.57893446e-11   4.83175842e-15   3.30200069e-11   2.25767790e-11\n",
      "    1.70680871e-16   1.36822165e-09   2.24235985e-16   1.02513560e-17\n",
      "    2.46757753e-10   7.20774967e-11   5.67569039e-12   1.72876883e-14\n",
      "    1.14698468e-11   1.11362961e-10   7.93483832e-06   4.88190344e-05\n",
      "    5.44168621e-09   1.96490807e-15   7.49491719e-11   9.27462440e-10\n",
      "    1.95910115e-14   1.30155252e-14   1.44748783e-14]]\n"
     ]
    }
   ],
   "source": [
    "### Calculate the accuracy for these 5 new images. \n",
    "### For example, if the model predicted 1 out of 5 signs correctly, it's 20% accurate on these new images.\n",
    "print(predictions)"
   ]
  },
  {
   "cell_type": "markdown",
   "metadata": {},
   "source": [
    "### Output Top 5 Softmax Probabilities For Each Image Found on the Web"
   ]
  },
  {
   "cell_type": "markdown",
   "metadata": {},
   "source": [
    "For each of the new images, print out the model's softmax probabilities to show the **certainty** of the model's predictions (limit the output to the top 5 probabilities for each image). [`tf.nn.top_k`](https://www.tensorflow.org/versions/r0.12/api_docs/python/nn.html#top_k) could prove helpful here. \n",
    "\n",
    "The example below demonstrates how tf.nn.top_k can be used to find the top k predictions for each image.\n",
    "\n",
    "`tf.nn.top_k` will return the values and indices (class ids) of the top k predictions. So if k=3, for each sign, it'll return the 3 largest probabilities (out of a possible 43) and the correspoding class ids.\n",
    "\n",
    "Take this numpy array as an example. The values in the array represent predictions. The array contains softmax probabilities for five candidate images with six possible classes. `tk.nn.top_k` is used to choose the three classes with the highest probability:\n",
    "\n",
    "```\n",
    "# (5, 6) array\n",
    "a = np.array([[ 0.24879643,  0.07032244,  0.12641572,  0.34763842,  0.07893497,\n",
    "         0.12789202],\n",
    "       [ 0.28086119,  0.27569815,  0.08594638,  0.0178669 ,  0.18063401,\n",
    "         0.15899337],\n",
    "       [ 0.26076848,  0.23664738,  0.08020603,  0.07001922,  0.1134371 ,\n",
    "         0.23892179],\n",
    "       [ 0.11943333,  0.29198961,  0.02605103,  0.26234032,  0.1351348 ,\n",
    "         0.16505091],\n",
    "       [ 0.09561176,  0.34396535,  0.0643941 ,  0.16240774,  0.24206137,\n",
    "         0.09155967]])\n",
    "```\n",
    "\n",
    "Running it through `sess.run(tf.nn.top_k(tf.constant(a), k=3))` produces:\n",
    "\n",
    "```\n",
    "TopKV2(values=array([[ 0.34763842,  0.24879643,  0.12789202],\n",
    "       [ 0.28086119,  0.27569815,  0.18063401],\n",
    "       [ 0.26076848,  0.23892179,  0.23664738],\n",
    "       [ 0.29198961,  0.26234032,  0.16505091],\n",
    "       [ 0.34396535,  0.24206137,  0.16240774]]), indices=array([[3, 0, 5],\n",
    "       [0, 1, 4],\n",
    "       [0, 5, 1],\n",
    "       [1, 3, 5],\n",
    "       [1, 4, 3]], dtype=int32))\n",
    "```\n",
    "\n",
    "Looking just at the first row we get `[ 0.34763842,  0.24879643,  0.12789202]`, you can confirm these are the 3 largest probabilities in `a`. You'll also notice `[3, 0, 5]` are the corresponding indices."
   ]
  },
  {
   "cell_type": "code",
   "execution_count": 20,
   "metadata": {
    "collapsed": false
   },
   "outputs": [
    {
     "name": "stdout",
     "output_type": "stream",
     "text": [
      "[array([[  1.09393011e-06,   5.65562175e-07,   2.28583419e-09,\n",
      "          2.07734898e-13,   1.49472825e-07,   1.24149670e-14,\n",
      "          4.94408941e-12,   4.05224546e-13,   8.38640535e-09,\n",
      "          3.34909813e-16,   7.05752849e-15,   5.30971480e-14,\n",
      "          1.20939402e-12,   3.99009137e-09,   9.88192740e-04,\n",
      "          7.20367585e-11,   2.13425502e-17,   9.99005854e-01,\n",
      "          4.06465035e-11,   1.18943874e-16,   5.48888990e-10,\n",
      "          1.00874712e-13,   1.63742158e-08,   2.76332658e-14,\n",
      "          9.33282531e-13,   2.77658257e-10,   2.60409142e-11,\n",
      "          1.56282650e-15,   3.52022881e-13,   6.49997695e-11,\n",
      "          2.13880596e-14,   1.35913725e-10,   8.99061207e-12,\n",
      "          1.65421199e-07,   3.16370735e-10,   4.46215466e-14,\n",
      "          2.36543424e-10,   6.38533626e-09,   1.92608721e-10,\n",
      "          4.05763512e-06,   1.93829131e-08,   6.29270041e-16,\n",
      "          2.01164287e-17],\n",
      "       [  1.71339310e-12,   1.96569122e-10,   1.67083028e-10,\n",
      "          4.15681752e-05,   5.36050533e-13,   3.31918493e-08,\n",
      "          1.03385689e-10,   4.46705797e-11,   3.40402012e-12,\n",
      "          9.67048095e-08,   1.51861585e-07,   1.17540282e-07,\n",
      "          2.30977798e-06,   5.72070894e-06,   1.70320789e-08,\n",
      "          3.94046492e-06,   2.04319739e-09,   1.96999058e-12,\n",
      "          1.66558404e-13,   5.39905977e-06,   6.97671794e-07,\n",
      "          3.47338247e-09,   2.05616010e-10,   4.64150162e-06,\n",
      "          1.15354322e-08,   7.72327803e-06,   2.38264313e-12,\n",
      "          7.44196593e-10,   1.88399699e-05,   6.01830616e-05,\n",
      "          1.76000654e-07,   3.05532044e-09,   2.11277413e-08,\n",
      "          5.01667600e-05,   2.83376954e-04,   9.99409914e-01,\n",
      "          1.04815481e-04,   3.52427484e-12,   4.14076311e-08,\n",
      "          2.57843691e-10,   1.90447921e-10,   5.36213907e-10,\n",
      "          2.43914361e-10],\n",
      "       [  5.32063905e-06,   1.01623300e-04,   2.08223370e-04,\n",
      "          1.00855777e-05,   2.77177833e-06,   1.28372028e-06,\n",
      "          2.45175625e-06,   6.24194286e-07,   4.62246635e-06,\n",
      "          5.41618590e-08,   3.69570259e-08,   3.27007143e-07,\n",
      "          6.72935721e-06,   2.05904962e-05,   9.90504801e-01,\n",
      "          3.80838173e-05,   1.83833315e-09,   7.08186347e-03,\n",
      "          3.59177399e-08,   2.73007439e-09,   1.20928121e-06,\n",
      "          1.31347306e-07,   1.59943590e-06,   2.15473861e-08,\n",
      "          2.54811052e-08,   2.14304941e-06,   6.10898567e-08,\n",
      "          9.67852576e-10,   2.74639707e-08,   8.27012911e-07,\n",
      "          7.43528403e-08,   1.01784303e-06,   3.83645192e-06,\n",
      "          1.51533913e-03,   3.71232600e-04,   1.92690845e-06,\n",
      "          8.20085043e-05,   7.74638409e-07,   1.64750672e-05,\n",
      "          6.73620843e-06,   4.78619904e-06,   9.78347430e-08,\n",
      "          1.33593900e-08],\n",
      "       [  3.76316493e-05,   4.57921888e-05,   7.54137091e-07,\n",
      "          1.29385619e-12,   1.37280629e-04,   1.11713597e-13,\n",
      "          4.20159140e-14,   2.53221975e-11,   1.95948087e-06,\n",
      "          3.44439278e-15,   3.40001112e-13,   3.64497894e-14,\n",
      "          3.78307542e-12,   3.47455291e-08,   2.68933974e-04,\n",
      "          8.00902722e-09,   1.13350594e-17,   9.94434536e-01,\n",
      "          2.85624996e-10,   2.62653177e-14,   6.22925433e-10,\n",
      "          4.51981265e-11,   7.25267597e-08,   4.17246804e-13,\n",
      "          7.51015309e-12,   5.58365409e-10,   1.50678170e-09,\n",
      "          2.60996093e-15,   1.10063120e-12,   2.02767003e-09,\n",
      "          1.37519602e-14,   1.11700309e-07,   4.10377637e-14,\n",
      "          7.33052411e-06,   4.86884448e-12,   5.07681570e-13,\n",
      "          9.25612972e-12,   6.39485188e-06,   4.50332306e-12,\n",
      "          5.05885296e-03,   2.34486393e-07,   3.63916415e-18,\n",
      "          1.09571808e-18],\n",
      "       [  1.07638099e-15,   7.44022137e-15,   1.92896819e-13,\n",
      "          3.88014769e-07,   5.25311640e-14,   2.80339684e-12,\n",
      "          2.35462221e-15,   3.87800174e-11,   1.59004418e-12,\n",
      "          7.40402795e-10,   6.35926381e-11,   8.94898508e-14,\n",
      "          3.60606156e-10,   9.99942660e-01,   1.31168271e-11,\n",
      "          1.59537350e-07,   3.01142114e-13,   2.46675832e-14,\n",
      "          1.36758153e-18,   2.80631096e-13,   2.57893446e-11,\n",
      "          4.83175842e-15,   3.30200069e-11,   2.25767790e-11,\n",
      "          1.70680871e-16,   1.36822165e-09,   2.24235985e-16,\n",
      "          1.02513560e-17,   2.46757753e-10,   7.20774967e-11,\n",
      "          5.67569039e-12,   1.72876883e-14,   1.14698468e-11,\n",
      "          1.11362961e-10,   7.93483832e-06,   4.88190344e-05,\n",
      "          5.44168621e-09,   1.96490807e-15,   7.49491719e-11,\n",
      "          9.27462440e-10,   1.95910115e-14,   1.30155252e-14,\n",
      "          1.44748783e-14]], dtype=float32), TopKV2(values=array([[  9.99005854e-01,   9.88192740e-04,   4.05763512e-06,\n",
      "          1.09393011e-06,   5.65562175e-07],\n",
      "       [  9.99409914e-01,   2.83376954e-04,   1.04815481e-04,\n",
      "          6.01830616e-05,   5.01667600e-05],\n",
      "       [  9.90504801e-01,   7.08186347e-03,   1.51533913e-03,\n",
      "          3.71232600e-04,   2.08223370e-04],\n",
      "       [  9.94434536e-01,   5.05885296e-03,   2.68933974e-04,\n",
      "          1.37280629e-04,   4.57921888e-05],\n",
      "       [  9.99942660e-01,   4.88190344e-05,   7.93483832e-06,\n",
      "          3.88014769e-07,   1.59537350e-07]], dtype=float32), indices=array([[17, 14, 39,  0,  1],\n",
      "       [35, 34, 36, 29, 33],\n",
      "       [14, 17, 33, 34,  2],\n",
      "       [17, 39, 14,  4,  1],\n",
      "       [13, 35, 34,  3, 15]], dtype=int32))]\n"
     ]
    }
   ],
   "source": [
    "### Print out the top five softmax probabilities for the predictions on the German traffic sign images found on the web.\n",
    "with tf.Session() as sess:\n",
    "    saver.restore(sess, tf.train.latest_checkpoint('.')) \n",
    "    top5 = tf.nn.top_k(pred, 5)\n",
    "    top5_pred = sess.run([pred, top5], feed_dict=feed_dict_new)\n",
    "    print(top5_pred)"
   ]
  },
  {
   "cell_type": "code",
   "execution_count": 21,
   "metadata": {
    "collapsed": false
   },
   "outputs": [
    {
     "data": {
      "image/png": "[encoded data removed]",
      "text/plain": [
       "<matplotlib.figure.Figure at 0x11ecae630>"
      ]
     },
     "metadata": {},
     "output_type": "display_data"
    },
    {
     "data": {
      "image/png": "[encoded data removed]",
      "text/plain": [
       "<matplotlib.figure.Figure at 0x132577cf8>"
      ]
     },
     "metadata": {},
     "output_type": "display_data"
    },
    {
     "data": {
      "image/png": "[encoded data removed]",
      "text/plain": [
       "<matplotlib.figure.Figure at 0x11d10b128>"
      ]
     },
     "metadata": {},
     "output_type": "display_data"
    },
    {
     "data": {
      "image/png": "[encoded data removed]",
      "text/plain": [
       "<matplotlib.figure.Figure at 0x11d2e2550>"
      ]
     },
     "metadata": {},
     "output_type": "display_data"
    },
    {
     "data": {
      "image/png": "[encoded data removed]",
      "text/plain": [
       "<matplotlib.figure.Figure at 0x11d2ea320>"
      ]
     },
     "metadata": {},
     "output_type": "display_data"
    }
   ],
   "source": [
    " \n",
    "### Feel free to use as many code cells as needed.\n",
    "data_pd = pd.read_csv('signnames.csv')\n",
    "for i in range(5):\n",
    "    plt.figure(figsize = (5,1.5))\n",
    "    gs = gridspec.GridSpec(1, 2,width_ratios=[2,3])\n",
    "    plt.subplot(gs[0])\n",
    "    plt.imshow(newdata[i].squeeze()+.5, cmap=\"gray\")\n",
    "    plt.axis('off')\n",
    "    plt.subplot(gs[1])\n",
    "    plt.barh(6-np.arange(5),top5_pred[1][0][i], align='center')\n",
    "    for i_label in range(5):\n",
    "        plt.text(top5_pred[1][0][i][i_label]+.02,6-i_label-.25,\n",
    "            data_pd['SignName'][top5_pred[1][1][i][i_label]])\n",
    "    plt.axis('off');\n",
    "    plt.text(0,6.95,namenewdata[i].split('.')[0]);\n",
    "    plt.show();"
   ]
  },
  {
   "cell_type": "markdown",
   "metadata": {},
   "source": [
    "---\n",
    "\n",
    "## Step 4: Visualize the Neural Network's State with Test Images\n",
    "\n",
    " This Section is not required to complete but acts as an additional excersise for understaning the output of a neural network's weights. While neural networks can be a great learning device they are often referred to as a black box. We can understand what the weights of a neural network look like better by plotting their feature maps. After successfully training your neural network you can see what it's feature maps look like by plotting the output of the network's weight layers in response to a test stimuli image. From these plotted feature maps, it's possible to see what characteristics of an image the network finds interesting. For a sign, maybe the inner network feature maps react with high activation to the sign's boundary outline or to the contrast in the sign's painted symbol.\n",
    "\n",
    " Provided for you below is the function code that allows you to get the visualization output of any tensorflow weight layer you want. The inputs to the function should be a stimuli image, one used during training or a new one you provided, and then the tensorflow variable name that represents the layer's state during the training process, for instance if you wanted to see what the [LeNet lab's](https://classroom.udacity.com/nanodegrees/nd013/parts/fbf77062-5703-404e-b60c-95b78b2f3f9e/modules/6df7ae49-c61c-4bb2-a23e-6527e69209ec/lessons/601ae704-1035-4287-8b11-e2c2716217ad/concepts/d4aca031-508f-4e0b-b493-e7b706120f81) feature maps looked like for it's second convolutional layer you could enter conv2 as the tf_activation variable.\n",
    "\n",
    "For an example of what feature map outputs look like, check out NVIDIA's results in their paper [End-to-End Deep Learning for Self-Driving Cars](https://devblogs.nvidia.com/parallelforall/deep-learning-self-driving-cars/) in the section Visualization of internal CNN State. NVIDIA was able to show that their network's inner weights had high activations to road boundary lines by comparing feature maps from an image with a clear path to one without. Try experimenting with a similar test to show that your trained network's weights are looking for interesting features, whether it's looking at differences in feature maps from images with or without a sign, or even what feature maps look like in a trained network vs a completely untrained one on the same sign image.\n",
    "\n",
    "<figure>\n",
    " <img src=\"visualize_cnn.png\" width=\"380\" alt=\"Combined Image\" />\n",
    " <figcaption>\n",
    " <p></p> \n",
    " <p style=\"text-align: center;\"> Your output should look something like this (above)</p> \n",
    " </figcaption>\n",
    "</figure>\n",
    " <p></p> \n"
   ]
  },
  {
   "cell_type": "code",
   "execution_count": null,
   "metadata": {
    "collapsed": true
   },
   "outputs": [],
   "source": [
    "### Visualize your network's feature maps here.\n",
    "### Feel free to use as many code cells as needed.\n",
    "\n",
    "# image_input: the test image being fed into the network to produce the feature maps\n",
    "# tf_activation: should be a tf variable name used during your training procedure that represents the calculated state of a specific weight layer\n",
    "# activation_min/max: can be used to view the activation contrast in more detail, by default matplot sets min and max to the actual min and max values of the output\n",
    "# plt_num: used to plot out multiple different weight feature map sets on the same block, just extend the plt number for each new feature map entry\n",
    "\n",
    "def outputFeatureMap(image_input, tf_activation, activation_min=-1, activation_max=-1 ,plt_num=1):\n",
    "    # Here make sure to preprocess your image_input in a way your network expects\n",
    "    # with size, normalization, ect if needed\n",
    "    # image_input =\n",
    "    # Note: x should be the same name as your network's tensorflow data placeholder variable\n",
    "    # If you get an error tf_activation is not defined it maybe having trouble accessing the variable from inside a function\n",
    "    activation = tf_activation.eval(session=sess,feed_dict={x : image_input})\n",
    "    featuremaps = activation.shape[3]\n",
    "    plt.figure(plt_num, figsize=(15,15))\n",
    "    for featuremap in range(featuremaps):\n",
    "        plt.subplot(6,8, featuremap+1) # sets the number of feature maps to show on each row and column\n",
    "        plt.title('FeatureMap ' + str(featuremap)) # displays the feature map number\n",
    "        if activation_min != -1 & activation_max != -1:\n",
    "            plt.imshow(activation[0,:,:, featuremap], interpolation=\"nearest\", vmin =activation_min, vmax=activation_max, cmap=\"gray\")\n",
    "        elif activation_max != -1:\n",
    "            plt.imshow(activation[0,:,:, featuremap], interpolation=\"nearest\", vmax=activation_max, cmap=\"gray\")\n",
    "        elif activation_min !=-1:\n",
    "            plt.imshow(activation[0,:,:, featuremap], interpolation=\"nearest\", vmin=activation_min, cmap=\"gray\")\n",
    "        else:\n",
    "            plt.imshow(activation[0,:,:, featuremap], interpolation=\"nearest\", cmap=\"gray\")"
   ]
  },
  {
   "cell_type": "markdown",
   "metadata": {},
   "source": [
    "### Question 9\n",
    "\n",
    "Discuss how you used the visual output of your trained network's feature maps to show that it had learned to look for interesting characteristics in traffic sign images\n"
   ]
  },
  {
   "cell_type": "markdown",
   "metadata": {},
   "source": [
    "**Answer:**"
   ]
  },
  {
   "cell_type": "markdown",
   "metadata": {},
   "source": [
    "> **Note**: Once you have completed all of the code implementations and successfully answered each question above, you may finalize your work by exporting the iPython Notebook as an HTML document. You can do this by using the menu above and navigating to  \\n\",\n",
    "    \"**File -> Download as -> HTML (.html)**. Include the finished document along with this notebook as your submission."
   ]
  },
  {
   "cell_type": "markdown",
   "metadata": {},
   "source": [
    "### Project Writeup\n",
    "\n",
    "Once you have completed the code implementation, document your results in a project writeup using this [template](https://github.com/udacity/CarND-Traffic-Sign-Classifier-Project/blob/master/writeup_template.md) as a guide. The writeup can be in a markdown or pdf file. "
   ]
  }
 ],
 "metadata": {
  "anaconda-cloud": {},
  "kernelspec": {
   "display_name": "Python [default]",
   "language": "python",
   "name": "python3"
  },
  "language_info": {
   "codemirror_mode": {
    "name": "ipython",
    "version": 3
   },
   "file_extension": ".py",
   "mimetype": "text/x-python",
   "name": "python",
   "nbconvert_exporter": "python",
   "pygments_lexer": "ipython3",
   "version": "3.5.2"
  }
 },
 "nbformat": 4,
 "nbformat_minor": 1
}
